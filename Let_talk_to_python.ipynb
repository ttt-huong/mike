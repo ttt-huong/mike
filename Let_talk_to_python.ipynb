{
 "cells": [
  {
   "cell_type": "markdown",
   "id": "9a42fa13",
   "metadata": {},
   "source": [
    "# Let talk to python\n"
   ]
  },
  {
   "cell_type": "markdown",
   "id": "25420b4b",
   "metadata": {},
   "source": [
    "# math"
   ]
  },
  {
   "cell_type": "code",
   "execution_count": 1,
   "id": "e2739085",
   "metadata": {},
   "outputs": [
    {
     "data": {
      "text/plain": [
       "9"
      ]
     },
     "execution_count": 1,
     "metadata": {},
     "output_type": "execute_result"
    }
   ],
   "source": [
    "# phép cộng \n",
    "1+2+6"
   ]
  },
  {
   "cell_type": "code",
   "execution_count": 2,
   "id": "9c93f9c4",
   "metadata": {},
   "outputs": [
    {
     "data": {
      "text/plain": [
       "-4"
      ]
     },
     "execution_count": 2,
     "metadata": {},
     "output_type": "execute_result"
    }
   ],
   "source": [
    "# phép trừ\n",
    "9-5-8"
   ]
  },
  {
   "cell_type": "code",
   "execution_count": 3,
   "id": "d20a9e77",
   "metadata": {},
   "outputs": [
    {
     "data": {
      "text/plain": [
       "27"
      ]
     },
     "execution_count": 3,
     "metadata": {},
     "output_type": "execute_result"
    }
   ],
   "source": [
    "# phép nhân\n",
    "9*3"
   ]
  },
  {
   "cell_type": "code",
   "execution_count": 4,
   "id": "2e675fc4",
   "metadata": {},
   "outputs": [
    {
     "data": {
      "text/plain": [
       "3.0"
      ]
     },
     "execution_count": 4,
     "metadata": {},
     "output_type": "execute_result"
    }
   ],
   "source": [
    "# phép chia\n",
    "6/2"
   ]
  },
  {
   "cell_type": "code",
   "execution_count": 5,
   "id": "cecb535e",
   "metadata": {},
   "outputs": [
    {
     "data": {
      "text/plain": [
       "2.857142857142857"
      ]
     },
     "execution_count": 5,
     "metadata": {},
     "output_type": "execute_result"
    }
   ],
   "source": [
    "20/7"
   ]
  },
  {
   "cell_type": "code",
   "execution_count": 6,
   "id": "283fa261",
   "metadata": {},
   "outputs": [
    {
     "data": {
      "text/plain": [
       "3.3333333333333335"
      ]
     },
     "execution_count": 6,
     "metadata": {},
     "output_type": "execute_result"
    }
   ],
   "source": [
    "10/3"
   ]
  },
  {
   "cell_type": "code",
   "execution_count": 23,
   "id": "7bbf941f",
   "metadata": {},
   "outputs": [
    {
     "data": {
      "text/plain": [
       "3"
      ]
     },
     "execution_count": 23,
     "metadata": {},
     "output_type": "execute_result"
    }
   ],
   "source": [
    "round(10/3)"
   ]
  },
  {
   "cell_type": "code",
   "execution_count": 22,
   "id": "97c28dbe",
   "metadata": {},
   "outputs": [],
   "source": [
    "? round"
   ]
  },
  {
   "cell_type": "code",
   "execution_count": 9,
   "id": "0a6a1550",
   "metadata": {},
   "outputs": [
    {
     "data": {
      "text/plain": [
       "3.33333"
      ]
     },
     "execution_count": 9,
     "metadata": {},
     "output_type": "execute_result"
    }
   ],
   "source": [
    "round(10/3, 5)"
   ]
  },
  {
   "cell_type": "code",
   "execution_count": 10,
   "id": "e3876f26",
   "metadata": {},
   "outputs": [
    {
     "data": {
      "text/plain": [
       "True"
      ]
     },
     "execution_count": 10,
     "metadata": {},
     "output_type": "execute_result"
    }
   ],
   "source": [
    "5 == 5"
   ]
  },
  {
   "cell_type": "code",
   "execution_count": 11,
   "id": "237c44bc",
   "metadata": {},
   "outputs": [
    {
     "data": {
      "text/plain": [
       "False"
      ]
     },
     "execution_count": 11,
     "metadata": {},
     "output_type": "execute_result"
    }
   ],
   "source": [
    "5 != 5"
   ]
  },
  {
   "cell_type": "code",
   "execution_count": 12,
   "id": "0c395d2b",
   "metadata": {},
   "outputs": [
    {
     "data": {
      "text/plain": [
       "False"
      ]
     },
     "execution_count": 12,
     "metadata": {},
     "output_type": "execute_result"
    }
   ],
   "source": [
    "6 > 7"
   ]
  },
  {
   "cell_type": "code",
   "execution_count": 13,
   "id": "e9c02e59",
   "metadata": {},
   "outputs": [
    {
     "data": {
      "text/plain": [
       "False"
      ]
     },
     "execution_count": 13,
     "metadata": {},
     "output_type": "execute_result"
    }
   ],
   "source": [
    "7 < 6"
   ]
  },
  {
   "cell_type": "code",
   "execution_count": 14,
   "id": "41c0757b",
   "metadata": {},
   "outputs": [
    {
     "data": {
      "text/plain": [
       "True"
      ]
     },
     "execution_count": 14,
     "metadata": {},
     "output_type": "execute_result"
    }
   ],
   "source": [
    "7 > 6"
   ]
  },
  {
   "cell_type": "code",
   "execution_count": 15,
   "id": "75d2c72c",
   "metadata": {},
   "outputs": [
    {
     "data": {
      "text/plain": [
       "True"
      ]
     },
     "execution_count": 15,
     "metadata": {},
     "output_type": "execute_result"
    }
   ],
   "source": [
    "12+1>=12"
   ]
  },
  {
   "cell_type": "code",
   "execution_count": 16,
   "id": "73827939",
   "metadata": {},
   "outputs": [
    {
     "data": {
      "text/plain": [
       "True"
      ]
     },
     "execution_count": 16,
     "metadata": {},
     "output_type": "execute_result"
    }
   ],
   "source": [
    "16*2==32"
   ]
  },
  {
   "cell_type": "code",
   "execution_count": 17,
   "id": "4f762c2e",
   "metadata": {},
   "outputs": [
    {
     "data": {
      "text/plain": [
       "False"
      ]
     },
     "execution_count": 17,
     "metadata": {},
     "output_type": "execute_result"
    }
   ],
   "source": [
    "16!=16"
   ]
  },
  {
   "cell_type": "code",
   "execution_count": 18,
   "id": "0eed45c6",
   "metadata": {},
   "outputs": [
    {
     "data": {
      "text/plain": [
       "4"
      ]
     },
     "execution_count": 18,
     "metadata": {},
     "output_type": "execute_result"
    }
   ],
   "source": [
    "# phép chia lấy phần nguyên\n",
    "9//2"
   ]
  },
  {
   "cell_type": "code",
   "execution_count": 19,
   "id": "99e2dac5",
   "metadata": {},
   "outputs": [
    {
     "data": {
      "text/plain": [
       "1"
      ]
     },
     "execution_count": 19,
     "metadata": {},
     "output_type": "execute_result"
    }
   ],
   "source": [
    "# phép chia lấy phần dư\n",
    "9%2"
   ]
  },
  {
   "cell_type": "code",
   "execution_count": 21,
   "id": "40d01eb1",
   "metadata": {},
   "outputs": [
    {
     "data": {
      "text/plain": [
       "81"
      ]
     },
     "execution_count": 21,
     "metadata": {},
     "output_type": "execute_result"
    }
   ],
   "source": [
    "# lũy thừa\n",
    "3 ** 4"
   ]
  },
  {
   "cell_type": "markdown",
   "id": "50919294",
   "metadata": {},
   "source": [
    "## strings"
   ]
  },
  {
   "cell_type": "code",
   "execution_count": 22,
   "id": "83b1c3b2",
   "metadata": {},
   "outputs": [
    {
     "data": {
      "text/plain": [
       "'hello!'"
      ]
     },
     "execution_count": 22,
     "metadata": {},
     "output_type": "execute_result"
    }
   ],
   "source": [
    "\"hello!\""
   ]
  },
  {
   "cell_type": "code",
   "execution_count": 23,
   "id": "6e41cb2c",
   "metadata": {},
   "outputs": [
    {
     "data": {
      "text/plain": [
       "'hello!'"
      ]
     },
     "execution_count": 23,
     "metadata": {},
     "output_type": "execute_result"
    }
   ],
   "source": [
    "'hello!'"
   ]
  },
  {
   "cell_type": "markdown",
   "id": "83f9963b",
   "metadata": {},
   "source": [
    "### string operators\n",
    "  - Concatenation: +\n",
    "  - munltiplication: *"
   ]
  },
  {
   "cell_type": "code",
   "execution_count": 24,
   "id": "abd01e6d",
   "metadata": {},
   "outputs": [
    {
     "data": {
      "text/plain": [
       "'Hithere!'"
      ]
     },
     "execution_count": 24,
     "metadata": {},
     "output_type": "execute_result"
    }
   ],
   "source": [
    "\"Hi\" + \"there!\""
   ]
  },
  {
   "cell_type": "code",
   "execution_count": 25,
   "id": "b4960760",
   "metadata": {},
   "outputs": [
    {
     "data": {
      "text/plain": [
       "'HiHiHiHiHiHiHiHiHiHiHiHiHiHiHiHiHiHiHiHiHiHiHiHiHiHiHiHiHiHiHiHiHiHiHiHiHiHiHiHiHiHiHiHiHiHiHiHiHiHiHiHiHiHiHiHiHiHiHiHiHiHiHiHiHiHiHiHiHiHiHiHiHiHiHiHiHiHiHiHiHiHiHiHiHiHiHiHiHiHiHiHiHiHiHiHiHiHiHiHiHiHiHiHiHiHiHiHiHiHiHiHiHiHiHiHiHiHiHiHiHiHiHiHiHiHiHiHiHiHiHiHiHiHiHiHiHiHiHiHiHiHiHiHiHiHiHiHiHiHiHiHiHiHiHiHiHiHiHiHiHiHiHiHiHiHiHiHiHiHiHiHiHiHiHiHiHiHiHiHiHiHiHiHiHiHiHiHiHiHiHiHiHiHiHiHiHiHiHiHiHiHiHiHiHiHiHiHiHiHiHiHiHiHiHiHiHiHiHiHiHiHiHiHiHiHiHiHiHiHiHiHiHiHiHiHiHiHiHiHiHiHiHiHiHiHiHiHiHiHi'"
      ]
     },
     "execution_count": 25,
     "metadata": {},
     "output_type": "execute_result"
    }
   ],
   "source": [
    "\"Hi\" * 250"
   ]
  },
  {
   "cell_type": "markdown",
   "id": "bb44842f",
   "metadata": {},
   "source": [
    "# String Index\n",
    "Rules\n",
    "- Indexes start at 0\n",
    "- Spaces iside the string are counted"
   ]
  },
  {
   "cell_type": "code",
   "execution_count": 26,
   "id": "e8cb5c5e",
   "metadata": {},
   "outputs": [
    {
     "data": {
      "text/plain": [
       "'Hello'"
      ]
     },
     "execution_count": 26,
     "metadata": {},
     "output_type": "execute_result"
    }
   ],
   "source": [
    "\"H\"+\"e\"+\"l\"+\"l\"+\"o\""
   ]
  },
  {
   "cell_type": "code",
   "execution_count": 27,
   "id": "fecc37b3",
   "metadata": {},
   "outputs": [
    {
     "data": {
      "text/plain": [
       "'H'"
      ]
     },
     "execution_count": 27,
     "metadata": {},
     "output_type": "execute_result"
    }
   ],
   "source": [
    "'Hello'[0]"
   ]
  },
  {
   "cell_type": "code",
   "execution_count": 28,
   "id": "7a9fc015",
   "metadata": {},
   "outputs": [
    {
     "data": {
      "text/plain": [
       "'o'"
      ]
     },
     "execution_count": 28,
     "metadata": {},
     "output_type": "execute_result"
    }
   ],
   "source": [
    "\"Hello\"[4]"
   ]
  },
  {
   "cell_type": "code",
   "execution_count": 31,
   "id": "90f0ba9e",
   "metadata": {},
   "outputs": [
    {
     "data": {
      "text/plain": [
       "' '"
      ]
     },
     "execution_count": 31,
     "metadata": {},
     "output_type": "execute_result"
    }
   ],
   "source": [
    "\"hey, Trang!\" [4]"
   ]
  },
  {
   "cell_type": "markdown",
   "id": "df484a0b",
   "metadata": {},
   "source": [
    "# String functions"
   ]
  },
  {
   "cell_type": "code",
   "execution_count": 33,
   "id": "b86bb522",
   "metadata": {},
   "outputs": [
    {
     "data": {
      "text/plain": [
       "'MAI XUÂN TRÁNG'"
      ]
     },
     "execution_count": 33,
     "metadata": {},
     "output_type": "execute_result"
    }
   ],
   "source": [
    "\"mai Xuân tráng\". upper()"
   ]
  },
  {
   "cell_type": "code",
   "execution_count": 34,
   "id": "44f8595a",
   "metadata": {},
   "outputs": [
    {
     "data": {
      "text/plain": [
       "'mai xuân tráng'"
      ]
     },
     "execution_count": 34,
     "metadata": {},
     "output_type": "execute_result"
    }
   ],
   "source": [
    "\"MAI XUÂN TRÁNG\". lower()"
   ]
  },
  {
   "cell_type": "code",
   "execution_count": 36,
   "id": "f64b106c",
   "metadata": {},
   "outputs": [
    {
     "data": {
      "text/plain": [
       "17"
      ]
     },
     "execution_count": 36,
     "metadata": {},
     "output_type": "execute_result"
    }
   ],
   "source": [
    "len(\"dung de dem ki tu\")"
   ]
  },
  {
   "cell_type": "code",
   "execution_count": 37,
   "id": "bdbdda9c",
   "metadata": {},
   "outputs": [
    {
     "data": {
      "text/plain": [
       "26"
      ]
     },
     "execution_count": 37,
     "metadata": {},
     "output_type": "execute_result"
    }
   ],
   "source": [
    "len(\"    dung de dem ki tu     \")"
   ]
  },
  {
   "cell_type": "code",
   "execution_count": 40,
   "id": "2e91830e",
   "metadata": {},
   "outputs": [
    {
     "data": {
      "text/plain": [
       "'dung de xoa khoang chong'"
      ]
     },
     "execution_count": 40,
     "metadata": {},
     "output_type": "execute_result"
    }
   ],
   "source": [
    "\"       dung de xoa khoang chong      \".strip()"
   ]
  },
  {
   "cell_type": "code",
   "execution_count": 42,
   "id": "3876e322",
   "metadata": {},
   "outputs": [
    {
     "data": {
      "text/plain": [
       "True"
      ]
     },
     "execution_count": 42,
     "metadata": {},
     "output_type": "execute_result"
    }
   ],
   "source": [
    "\"#This is a string\".; (\"#\")"
   ]
  },
  {
   "cell_type": "code",
   "execution_count": 43,
   "id": "d8754255",
   "metadata": {},
   "outputs": [
    {
     "data": {
      "text/plain": [
       "False"
      ]
     },
     "execution_count": 43,
     "metadata": {},
     "output_type": "execute_result"
    }
   ],
   "source": [
    "\"#This is a string\".endswith(\"#\")"
   ]
  },
  {
   "cell_type": "code",
   "execution_count": 46,
   "id": "0b179ca5",
   "metadata": {},
   "outputs": [
    {
     "data": {
      "text/plain": [
       "False"
      ]
     },
     "execution_count": 46,
     "metadata": {},
     "output_type": "execute_result"
    }
   ],
   "source": [
    "\"#This is a string\".endswith(\"*\")"
   ]
  },
  {
   "cell_type": "code",
   "execution_count": 48,
   "id": "3d324513",
   "metadata": {},
   "outputs": [
    {
     "data": {
      "text/plain": [
       "'llo world!'"
      ]
     },
     "execution_count": 48,
     "metadata": {},
     "output_type": "execute_result"
    }
   ],
   "source": [
    "# subsdstring\n",
    "\"Hello world!\"[2:]"
   ]
  },
  {
   "cell_type": "code",
   "execution_count": 53,
   "id": "c1fb3f95",
   "metadata": {},
   "outputs": [
    {
     "data": {
      "text/plain": [
       "'llo'"
      ]
     },
     "execution_count": 53,
     "metadata": {},
     "output_type": "execute_result"
    }
   ],
   "source": [
    "\"Hello world!\"[2:5]"
   ]
  },
  {
   "cell_type": "code",
   "execution_count": 54,
   "id": "d274b757",
   "metadata": {},
   "outputs": [
    {
     "data": {
      "text/plain": [
       "'Hello'"
      ]
     },
     "execution_count": 54,
     "metadata": {},
     "output_type": "execute_result"
    }
   ],
   "source": [
    "\"Hello world!\"[:5]"
   ]
  },
  {
   "cell_type": "code",
   "execution_count": 55,
   "id": "544bd845",
   "metadata": {},
   "outputs": [
    {
     "data": {
      "text/plain": [
       "'!'"
      ]
     },
     "execution_count": 55,
     "metadata": {},
     "output_type": "execute_result"
    }
   ],
   "source": [
    "\"Hello world!\"[-1]"
   ]
  },
  {
   "cell_type": "code",
   "execution_count": 56,
   "id": "c0961b6f",
   "metadata": {},
   "outputs": [
    {
     "data": {
      "text/plain": [
       "'llo worl'"
      ]
     },
     "execution_count": 56,
     "metadata": {},
     "output_type": "execute_result"
    }
   ],
   "source": [
    "\"Hello world!\"[2:-2]"
   ]
  },
  {
   "cell_type": "code",
   "execution_count": 60,
   "id": "df1b1a85",
   "metadata": {},
   "outputs": [
    {
     "data": {
      "text/plain": [
       "'llo worl'"
      ]
     },
     "execution_count": 60,
     "metadata": {},
     "output_type": "execute_result"
    }
   ],
   "source": [
    "\"Hello world!\"[2:10]"
   ]
  },
  {
   "cell_type": "code",
   "execution_count": 61,
   "id": "0e721221",
   "metadata": {},
   "outputs": [
    {
     "data": {
      "text/plain": [
       "'el ol'"
      ]
     },
     "execution_count": 61,
     "metadata": {},
     "output_type": "execute_result"
    }
   ],
   "source": [
    "\"Hello world!\"[1:10:2]"
   ]
  },
  {
   "cell_type": "code",
   "execution_count": 62,
   "id": "1c221352",
   "metadata": {},
   "outputs": [
    {
     "data": {
      "text/plain": [
       "'!dlrow olleH'"
      ]
     },
     "execution_count": 62,
     "metadata": {},
     "output_type": "execute_result"
    }
   ],
   "source": [
    "\"Hello world!\"[::-1]"
   ]
  },
  {
   "cell_type": "markdown",
   "id": "87bc0526",
   "metadata": {},
   "source": [
    "# Variable"
   ]
  },
  {
   "cell_type": "code",
   "execution_count": 76,
   "id": "882d9839",
   "metadata": {},
   "outputs": [],
   "source": [
    "a=14*14"
   ]
  },
  {
   "cell_type": "code",
   "execution_count": 77,
   "id": "e0d0e950",
   "metadata": {},
   "outputs": [
    {
     "data": {
      "text/plain": [
       "196"
      ]
     },
     "execution_count": 77,
     "metadata": {},
     "output_type": "execute_result"
    }
   ],
   "source": [
    "a"
   ]
  },
  {
   "cell_type": "code",
   "execution_count": 79,
   "id": "afba5ba1",
   "metadata": {},
   "outputs": [],
   "source": [
    "b=20"
   ]
  },
  {
   "cell_type": "code",
   "execution_count": 80,
   "id": "d9b571d8",
   "metadata": {},
   "outputs": [
    {
     "data": {
      "text/plain": [
       "20"
      ]
     },
     "execution_count": 80,
     "metadata": {},
     "output_type": "execute_result"
    }
   ],
   "source": [
    "b"
   ]
  },
  {
   "cell_type": "code",
   "execution_count": 81,
   "id": "67b4e7a4",
   "metadata": {},
   "outputs": [
    {
     "name": "stdout",
     "output_type": "stream",
     "text": [
      "Hello\n"
     ]
    }
   ],
   "source": [
    "print (\"Hello\")"
   ]
  },
  {
   "cell_type": "code",
   "execution_count": 82,
   "id": "881c26c4",
   "metadata": {},
   "outputs": [
    {
     "data": {
      "text/plain": [
       "400"
      ]
     },
     "execution_count": 82,
     "metadata": {},
     "output_type": "execute_result"
    }
   ],
   "source": [
    "a*b"
   ]
  },
  {
   "cell_type": "code",
   "execution_count": 83,
   "id": "692d61a1",
   "metadata": {},
   "outputs": [
    {
     "name": "stdout",
     "output_type": "stream",
     "text": [
      "Hello World!\n"
     ]
    }
   ],
   "source": [
    "print(\"Hello World!\")"
   ]
  },
  {
   "cell_type": "code",
   "execution_count": 1,
   "id": "370d74d2",
   "metadata": {},
   "outputs": [
    {
     "name": "stdout",
     "output_type": "stream",
     "text": [
      "6\n"
     ]
    }
   ],
   "source": [
    "s=int(input())"
   ]
  },
  {
   "cell_type": "code",
   "execution_count": 85,
   "id": "cf500dd9",
   "metadata": {},
   "outputs": [
    {
     "data": {
      "text/plain": [
       "30"
      ]
     },
     "execution_count": 85,
     "metadata": {},
     "output_type": "execute_result"
    }
   ],
   "source": [
    "s*5"
   ]
  },
  {
   "cell_type": "code",
   "execution_count": 86,
   "id": "3a3fd78d",
   "metadata": {},
   "outputs": [
    {
     "data": {
      "text/plain": [
       "int"
      ]
     },
     "execution_count": 86,
     "metadata": {},
     "output_type": "execute_result"
    }
   ],
   "source": [
    "type(s)"
   ]
  },
  {
   "cell_type": "markdown",
   "id": "09f56e04",
   "metadata": {},
   "source": [
    "# Types of data"
   ]
  },
  {
   "cell_type": "code",
   "execution_count": 1,
   "id": "6d9b8edb",
   "metadata": {},
   "outputs": [],
   "source": [
    "s = \"Hello!\""
   ]
  },
  {
   "cell_type": "code",
   "execution_count": 2,
   "id": "faec73e0",
   "metadata": {},
   "outputs": [
    {
     "data": {
      "text/plain": [
       "str"
      ]
     },
     "execution_count": 2,
     "metadata": {},
     "output_type": "execute_result"
    }
   ],
   "source": [
    "type(s)"
   ]
  },
  {
   "cell_type": "code",
   "execution_count": 3,
   "id": "7741b209",
   "metadata": {},
   "outputs": [],
   "source": [
    "s=5"
   ]
  },
  {
   "cell_type": "code",
   "execution_count": 4,
   "id": "8da32ea6",
   "metadata": {},
   "outputs": [
    {
     "data": {
      "text/plain": [
       "int"
      ]
     },
     "execution_count": 4,
     "metadata": {},
     "output_type": "execute_result"
    }
   ],
   "source": [
    "type(s)"
   ]
  },
  {
   "cell_type": "code",
   "execution_count": 5,
   "id": "e96cd3bf",
   "metadata": {},
   "outputs": [],
   "source": [
    "s=14.6"
   ]
  },
  {
   "cell_type": "code",
   "execution_count": 6,
   "id": "a644b7c0",
   "metadata": {},
   "outputs": [
    {
     "data": {
      "text/plain": [
       "float"
      ]
     },
     "execution_count": 6,
     "metadata": {},
     "output_type": "execute_result"
    }
   ],
   "source": [
    "type(s)"
   ]
  },
  {
   "cell_type": "markdown",
   "id": "8fd71bce",
   "metadata": {},
   "source": [
    "# Booleans"
   ]
  },
  {
   "cell_type": "code",
   "execution_count": 7,
   "id": "27e6afd0",
   "metadata": {},
   "outputs": [
    {
     "data": {
      "text/plain": [
       "True"
      ]
     },
     "execution_count": 7,
     "metadata": {},
     "output_type": "execute_result"
    }
   ],
   "source": [
    "True"
   ]
  },
  {
   "cell_type": "code",
   "execution_count": 8,
   "id": "d6b8649e",
   "metadata": {},
   "outputs": [
    {
     "data": {
      "text/plain": [
       "False"
      ]
     },
     "execution_count": 8,
     "metadata": {},
     "output_type": "execute_result"
    }
   ],
   "source": [
    "False"
   ]
  },
  {
   "cell_type": "code",
   "execution_count": 9,
   "id": "7653eb1f",
   "metadata": {},
   "outputs": [
    {
     "data": {
      "text/plain": [
       "True"
      ]
     },
     "execution_count": 9,
     "metadata": {},
     "output_type": "execute_result"
    }
   ],
   "source": [
    "1==1"
   ]
  },
  {
   "cell_type": "code",
   "execution_count": 11,
   "id": "f88de749",
   "metadata": {},
   "outputs": [
    {
     "data": {
      "text/plain": [
       "True"
      ]
     },
     "execution_count": 11,
     "metadata": {},
     "output_type": "execute_result"
    }
   ],
   "source": [
    "# and\n",
    "1==1 and 2!=4"
   ]
  },
  {
   "cell_type": "code",
   "execution_count": 12,
   "id": "406a16f9",
   "metadata": {},
   "outputs": [
    {
     "data": {
      "text/plain": [
       "False"
      ]
     },
     "execution_count": 12,
     "metadata": {},
     "output_type": "execute_result"
    }
   ],
   "source": [
    "1==1 and 2==3"
   ]
  },
  {
   "cell_type": "code",
   "execution_count": 13,
   "id": "d650ef25",
   "metadata": {},
   "outputs": [
    {
     "data": {
      "text/plain": [
       "True"
      ]
     },
     "execution_count": 13,
     "metadata": {},
     "output_type": "execute_result"
    }
   ],
   "source": [
    "# or\n",
    "1==1 or 2==3"
   ]
  },
  {
   "cell_type": "code",
   "execution_count": 15,
   "id": "9d052591",
   "metadata": {},
   "outputs": [
    {
     "data": {
      "text/plain": [
       "True"
      ]
     },
     "execution_count": 15,
     "metadata": {},
     "output_type": "execute_result"
    }
   ],
   "source": [
    "True and True"
   ]
  },
  {
   "cell_type": "code",
   "execution_count": 16,
   "id": "76b8b94d",
   "metadata": {},
   "outputs": [
    {
     "data": {
      "text/plain": [
       "False"
      ]
     },
     "execution_count": 16,
     "metadata": {},
     "output_type": "execute_result"
    }
   ],
   "source": [
    "False and False"
   ]
  },
  {
   "cell_type": "code",
   "execution_count": 17,
   "id": "66ec107b",
   "metadata": {},
   "outputs": [
    {
     "data": {
      "text/plain": [
       "False"
      ]
     },
     "execution_count": 17,
     "metadata": {},
     "output_type": "execute_result"
    }
   ],
   "source": [
    "1==1 and 2==1"
   ]
  },
  {
   "cell_type": "code",
   "execution_count": 18,
   "id": "dc82b165",
   "metadata": {},
   "outputs": [
    {
     "data": {
      "text/plain": [
       "True"
      ]
     },
     "execution_count": 18,
     "metadata": {},
     "output_type": "execute_result"
    }
   ],
   "source": [
    "\"test\" == \"test\""
   ]
  },
  {
   "cell_type": "code",
   "execution_count": 20,
   "id": "14dc3622",
   "metadata": {},
   "outputs": [
    {
     "data": {
      "text/plain": [
       "True"
      ]
     },
     "execution_count": 20,
     "metadata": {},
     "output_type": "execute_result"
    }
   ],
   "source": [
    "1==1 or 2==1"
   ]
  },
  {
   "cell_type": "code",
   "execution_count": 21,
   "id": "a6107d9d",
   "metadata": {},
   "outputs": [
    {
     "data": {
      "text/plain": [
       "True"
      ]
     },
     "execution_count": 21,
     "metadata": {},
     "output_type": "execute_result"
    }
   ],
   "source": [
    "True and 1==1"
   ]
  },
  {
   "cell_type": "code",
   "execution_count": 22,
   "id": "dbf6a040",
   "metadata": {},
   "outputs": [
    {
     "data": {
      "text/plain": [
       "False"
      ]
     },
     "execution_count": 22,
     "metadata": {},
     "output_type": "execute_result"
    }
   ],
   "source": [
    "False and 1==1"
   ]
  },
  {
   "cell_type": "code",
   "execution_count": 24,
   "id": "00222407",
   "metadata": {},
   "outputs": [
    {
     "data": {
      "text/plain": [
       "False"
      ]
     },
     "execution_count": 24,
     "metadata": {},
     "output_type": "execute_result"
    }
   ],
   "source": [
    "False and 0!=0"
   ]
  },
  {
   "cell_type": "markdown",
   "id": "c4e176d6",
   "metadata": {},
   "source": [
    "## Lists (danh sách)\n",
    "Danh sách là một chuỗi của các đối tượng (sbjects)."
   ]
  },
  {
   "cell_type": "code",
   "execution_count": 25,
   "id": "057e40de",
   "metadata": {},
   "outputs": [],
   "source": [
    "fruit = [\"apple\", \"banana\", \"grape\"]"
   ]
  },
  {
   "cell_type": "code",
   "execution_count": 26,
   "id": "c238429f",
   "metadata": {},
   "outputs": [
    {
     "data": {
      "text/plain": [
       "list"
      ]
     },
     "execution_count": 26,
     "metadata": {},
     "output_type": "execute_result"
    }
   ],
   "source": [
    "type(fruit)"
   ]
  },
  {
   "cell_type": "code",
   "execution_count": 27,
   "id": "48b3a697",
   "metadata": {},
   "outputs": [],
   "source": [
    "numbers=[3, 17, -4, 8.8, 1]"
   ]
  },
  {
   "cell_type": "code",
   "execution_count": 28,
   "id": "e492cfa4",
   "metadata": {},
   "outputs": [
    {
     "data": {
      "text/plain": [
       "list"
      ]
     },
     "execution_count": 28,
     "metadata": {},
     "output_type": "execute_result"
    }
   ],
   "source": [
    "type(numbers)"
   ]
  },
  {
   "cell_type": "code",
   "execution_count": 29,
   "id": "f7d56ae3",
   "metadata": {},
   "outputs": [],
   "source": [
    "ls=[1, 2, \"apple\", \"banana\"]"
   ]
  },
  {
   "cell_type": "code",
   "execution_count": 30,
   "id": "9949c933",
   "metadata": {},
   "outputs": [
    {
     "data": {
      "text/plain": [
       "list"
      ]
     },
     "execution_count": 30,
     "metadata": {},
     "output_type": "execute_result"
    }
   ],
   "source": [
    "type(ls)"
   ]
  },
  {
   "cell_type": "code",
   "execution_count": 32,
   "id": "e8a0a872",
   "metadata": {},
   "outputs": [
    {
     "data": {
      "text/plain": [
       "'apple'"
      ]
     },
     "execution_count": 32,
     "metadata": {},
     "output_type": "execute_result"
    }
   ],
   "source": [
    "fruit[0]"
   ]
  },
  {
   "cell_type": "code",
   "execution_count": 33,
   "id": "c1451f55",
   "metadata": {},
   "outputs": [
    {
     "data": {
      "text/plain": [
       "'grape'"
      ]
     },
     "execution_count": 33,
     "metadata": {},
     "output_type": "execute_result"
    }
   ],
   "source": [
    "fruit[-1]"
   ]
  },
  {
   "cell_type": "code",
   "execution_count": 40,
   "id": "ae706063",
   "metadata": {},
   "outputs": [],
   "source": [
    "colors=['đỏ', 'cam', 'vàng', 'lục', 'lam', 'chàm', 'tím']"
   ]
  },
  {
   "cell_type": "code",
   "execution_count": 41,
   "id": "030ac807",
   "metadata": {},
   "outputs": [
    {
     "data": {
      "text/plain": [
       "'vàng'"
      ]
     },
     "execution_count": 41,
     "metadata": {},
     "output_type": "execute_result"
    }
   ],
   "source": [
    "colors[2]"
   ]
  },
  {
   "cell_type": "markdown",
   "id": "4ffe530c",
   "metadata": {},
   "source": [
    "### Một số hàm/phương thức cho list"
   ]
  },
  {
   "cell_type": "markdown",
   "id": "3e7e60b3",
   "metadata": {},
   "source": [
    " Slicing: Lấy ra danh sách con \n",
    " ls[begin:end:step]"
   ]
  },
  {
   "cell_type": "code",
   "execution_count": 42,
   "id": "d3adc440",
   "metadata": {},
   "outputs": [],
   "source": [
    "lst=[10, 20, 30, 40, 50, 60, 70, 80, 90]"
   ]
  },
  {
   "cell_type": "code",
   "execution_count": 43,
   "id": "c1a4942f",
   "metadata": {},
   "outputs": [
    {
     "data": {
      "text/plain": [
       "[10, 20, 30]"
      ]
     },
     "execution_count": 43,
     "metadata": {},
     "output_type": "execute_result"
    }
   ],
   "source": [
    "lst[0:3]"
   ]
  },
  {
   "cell_type": "code",
   "execution_count": 44,
   "id": "84b9ab0f",
   "metadata": {},
   "outputs": [
    {
     "data": {
      "text/plain": [
       "[50, 60, 70, 80]"
      ]
     },
     "execution_count": 44,
     "metadata": {},
     "output_type": "execute_result"
    }
   ],
   "source": [
    "lst[4:8]"
   ]
  },
  {
   "cell_type": "code",
   "execution_count": 45,
   "id": "63ea3db1",
   "metadata": {},
   "outputs": [
    {
     "data": {
      "text/plain": [
       "[50, 60]"
      ]
     },
     "execution_count": 45,
     "metadata": {},
     "output_type": "execute_result"
    }
   ],
   "source": [
    "lst[-5:-3]"
   ]
  },
  {
   "cell_type": "code",
   "execution_count": 46,
   "id": "41cb8397",
   "metadata": {},
   "outputs": [
    {
     "data": {
      "text/plain": [
       "[10, 20, 30]"
      ]
     },
     "execution_count": 46,
     "metadata": {},
     "output_type": "execute_result"
    }
   ],
   "source": [
    "lst[:3]"
   ]
  },
  {
   "cell_type": "code",
   "execution_count": 47,
   "id": "fba64f5d",
   "metadata": {},
   "outputs": [
    {
     "data": {
      "text/plain": [
       "[40, 50, 60, 70, 80, 90]"
      ]
     },
     "execution_count": 47,
     "metadata": {},
     "output_type": "execute_result"
    }
   ],
   "source": [
    "lst[3:]"
   ]
  },
  {
   "cell_type": "code",
   "execution_count": 49,
   "id": "4b2bf934",
   "metadata": {},
   "outputs": [
    {
     "data": {
      "text/plain": [
       "[10, 20, 30, 40, 50, 60, 70, 80, 90]"
      ]
     },
     "execution_count": 49,
     "metadata": {},
     "output_type": "execute_result"
    }
   ],
   "source": [
    "lst[:]"
   ]
  },
  {
   "cell_type": "code",
   "execution_count": 50,
   "id": "e74343f5",
   "metadata": {},
   "outputs": [
    {
     "data": {
      "text/plain": [
       "[10, 30, 50, 70, 90]"
      ]
     },
     "execution_count": 50,
     "metadata": {},
     "output_type": "execute_result"
    }
   ],
   "source": [
    "lst[::2]"
   ]
  },
  {
   "cell_type": "code",
   "execution_count": 51,
   "id": "f4bae262",
   "metadata": {},
   "outputs": [
    {
     "data": {
      "text/plain": [
       "[90, 80, 70, 60, 50, 40, 30, 20, 10]"
      ]
     },
     "execution_count": 51,
     "metadata": {},
     "output_type": "execute_result"
    }
   ],
   "source": [
    "lst[::-1]"
   ]
  },
  {
   "cell_type": "code",
   "execution_count": 84,
   "id": "e256faaf",
   "metadata": {},
   "outputs": [],
   "source": [
    "# Insert\n",
    "lst=[1,2,3]"
   ]
  },
  {
   "cell_type": "code",
   "execution_count": 85,
   "id": "2f3bfc5e",
   "metadata": {},
   "outputs": [],
   "source": [
    "lst.insert(2,9)"
   ]
  },
  {
   "cell_type": "code",
   "execution_count": 86,
   "id": "4ca61e5c",
   "metadata": {},
   "outputs": [
    {
     "data": {
      "text/plain": [
       "[1, 2, 9, 3]"
      ]
     },
     "execution_count": 86,
     "metadata": {},
     "output_type": "execute_result"
    }
   ],
   "source": [
    "lst"
   ]
  },
  {
   "cell_type": "code",
   "execution_count": 87,
   "id": "7e5085ba",
   "metadata": {},
   "outputs": [],
   "source": [
    "lst.insert(0, 8)"
   ]
  },
  {
   "cell_type": "code",
   "execution_count": 88,
   "id": "ed070a63",
   "metadata": {},
   "outputs": [
    {
     "data": {
      "text/plain": [
       "[8, 1, 2, 9, 3]"
      ]
     },
     "execution_count": 88,
     "metadata": {},
     "output_type": "execute_result"
    }
   ],
   "source": [
    "lst"
   ]
  },
  {
   "cell_type": "code",
   "execution_count": 89,
   "id": "d2d520d9",
   "metadata": {},
   "outputs": [],
   "source": [
    "# append\n",
    "lst.append(11)"
   ]
  },
  {
   "cell_type": "code",
   "execution_count": 90,
   "id": "470d4df3",
   "metadata": {},
   "outputs": [
    {
     "data": {
      "text/plain": [
       "[8, 1, 2, 9, 3, 11]"
      ]
     },
     "execution_count": 90,
     "metadata": {},
     "output_type": "execute_result"
    }
   ],
   "source": [
    "lst"
   ]
  },
  {
   "cell_type": "code",
   "execution_count": 91,
   "id": "2850ec86",
   "metadata": {},
   "outputs": [],
   "source": [
    "lst.append(8)"
   ]
  },
  {
   "cell_type": "code",
   "execution_count": 92,
   "id": "3f4cfd3b",
   "metadata": {},
   "outputs": [],
   "source": [
    "# Remove\n",
    "lst.remove(8)"
   ]
  },
  {
   "cell_type": "code",
   "execution_count": 93,
   "id": "44493291",
   "metadata": {},
   "outputs": [
    {
     "data": {
      "text/plain": [
       "[1, 2, 9, 3, 11, 8]"
      ]
     },
     "execution_count": 93,
     "metadata": {},
     "output_type": "execute_result"
    }
   ],
   "source": [
    "lst"
   ]
  },
  {
   "cell_type": "code",
   "execution_count": 94,
   "id": "c3605f29",
   "metadata": {},
   "outputs": [],
   "source": [
    "# Reverse\n",
    "lst.reverse()"
   ]
  },
  {
   "cell_type": "code",
   "execution_count": 95,
   "id": "7131b01c",
   "metadata": {},
   "outputs": [
    {
     "data": {
      "text/plain": [
       "[8, 11, 3, 9, 2, 1]"
      ]
     },
     "execution_count": 95,
     "metadata": {},
     "output_type": "execute_result"
    }
   ],
   "source": [
    "lst"
   ]
  },
  {
   "cell_type": "code",
   "execution_count": 96,
   "id": "ab09947a",
   "metadata": {},
   "outputs": [],
   "source": [
    "del lst[3]"
   ]
  },
  {
   "cell_type": "code",
   "execution_count": 97,
   "id": "487dc0fc",
   "metadata": {},
   "outputs": [
    {
     "data": {
      "text/plain": [
       "[8, 11, 3, 2, 1]"
      ]
     },
     "execution_count": 97,
     "metadata": {},
     "output_type": "execute_result"
    }
   ],
   "source": [
    "lst"
   ]
  },
  {
   "cell_type": "code",
   "execution_count": 98,
   "id": "bc83ec5d",
   "metadata": {},
   "outputs": [],
   "source": [
    "# Sort\n",
    "lst.sort()"
   ]
  },
  {
   "cell_type": "code",
   "execution_count": 99,
   "id": "fcf0f2c1",
   "metadata": {},
   "outputs": [
    {
     "data": {
      "text/plain": [
       "[1, 2, 3, 8, 11]"
      ]
     },
     "execution_count": 99,
     "metadata": {},
     "output_type": "execute_result"
    }
   ],
   "source": [
    "lst"
   ]
  },
  {
   "cell_type": "code",
   "execution_count": 100,
   "id": "bb0a37d7",
   "metadata": {},
   "outputs": [],
   "source": [
    "lst.sort(reverse=True)"
   ]
  },
  {
   "cell_type": "code",
   "execution_count": 101,
   "id": "826c4de3",
   "metadata": {},
   "outputs": [
    {
     "data": {
      "text/plain": [
       "[11, 8, 3, 2, 1]"
      ]
     },
     "execution_count": 101,
     "metadata": {},
     "output_type": "execute_result"
    }
   ],
   "source": [
    "lst"
   ]
  },
  {
   "cell_type": "markdown",
   "id": "c082e0aa",
   "metadata": {},
   "source": [
    "### Danh sách đa chiều (Ma trận là danh sách 2 chiều)"
   ]
  },
  {
   "cell_type": "code",
   "execution_count": 103,
   "id": "1feecc61",
   "metadata": {},
   "outputs": [],
   "source": [
    "matrix = [\n",
    "    [10, 13, 14],\n",
    "    [40, 5, 8],\n",
    "    [4, 5, 7]\n",
    "]"
   ]
  },
  {
   "cell_type": "code",
   "execution_count": 104,
   "id": "9171fbe3",
   "metadata": {},
   "outputs": [
    {
     "data": {
      "text/plain": [
       "[[10, 13, 14], [40, 5, 8], [4, 5, 7]]"
      ]
     },
     "execution_count": 104,
     "metadata": {},
     "output_type": "execute_result"
    }
   ],
   "source": [
    "matrix"
   ]
  },
  {
   "cell_type": "code",
   "execution_count": 106,
   "id": "bface61a",
   "metadata": {},
   "outputs": [
    {
     "data": {
      "text/plain": [
       "8"
      ]
     },
     "execution_count": 106,
     "metadata": {},
     "output_type": "execute_result"
    }
   ],
   "source": [
    "matrix[1][2]"
   ]
  },
  {
   "cell_type": "markdown",
   "id": "2f86c873",
   "metadata": {},
   "source": [
    "## Biểu thức điều kiện và vòng lặp\n",
    "### if Statement"
   ]
  },
  {
   "cell_type": "code",
   "execution_count": 111,
   "id": "cfe63b0a",
   "metadata": {},
   "outputs": [
    {
     "name": "stdout",
     "output_type": "stream",
     "text": [
      "Nhấp vào tên của bạn:haha\n"
     ]
    }
   ],
   "source": [
    "name=input(\"Nhấp vào tên của bạn:\")"
   ]
  },
  {
   "cell_type": "code",
   "execution_count": 113,
   "id": "9732d4e2",
   "metadata": {},
   "outputs": [
    {
     "name": "stdout",
     "output_type": "stream",
     "text": [
      "Khong phai la Trang, ma la  haha\n"
     ]
    }
   ],
   "source": [
    "if name ==\"Trang\":\n",
    "    print(\"Hi Trang\")\n",
    "elif name == \"John\":\n",
    "    print(\"Hi John\")\n",
    "else:\n",
    "    print(\"Khong phai la Trang, ma la \", name)"
   ]
  },
  {
   "cell_type": "markdown",
   "id": "c57bb063",
   "metadata": {},
   "source": [
    "### Vòng lặp (loops)\n",
    "- Counting loops (lặp đếm)\n",
    "- conditionnal loops (lặp điều kiện)"
   ]
  },
  {
   "cell_type": "code",
   "execution_count": 114,
   "id": "ebb1342b",
   "metadata": {},
   "outputs": [
    {
     "name": "stdout",
     "output_type": "stream",
     "text": [
      "số mới là 2\n",
      "số mới là 3\n",
      "số mới là 4\n",
      "số mới là 5\n",
      "số mới là 6\n"
     ]
    }
   ],
   "source": [
    "# Counting loops - For\n",
    "for mynum in [1, 2, 3, 4, 5]:\n",
    "    newnum = mynum + 1\n",
    "    print(\"số mới là\", newnum)"
   ]
  },
  {
   "cell_type": "code",
   "execution_count": 118,
   "id": "9c18879f",
   "metadata": {},
   "outputs": [
    {
     "name": "stdout",
     "output_type": "stream",
     "text": [
      "Số đếm là: 1\n",
      "Số đếm là: 2\n",
      "Số đếm là: 3\n",
      "Số đếm là: 4\n",
      "Số đếm là: 5\n",
      "Số đếm là: 6\n",
      "Số đếm là: 7\n",
      "Số đếm là: 8\n",
      "Số đếm là: 9\n",
      "Số đếm là: 10\n"
     ]
    }
   ],
   "source": [
    "# Conditional loops - while\n",
    "count = 0\n",
    "while (count < 10):\n",
    "    count=count+1\n",
    "    print(\"Số đếm là:\", count)\n",
    "    "
   ]
  },
  {
   "cell_type": "markdown",
   "id": "6a973790",
   "metadata": {},
   "source": [
    "### break & continue"
   ]
  },
  {
   "cell_type": "code",
   "execution_count": 119,
   "id": "fdc7201f",
   "metadata": {},
   "outputs": [
    {
     "name": "stdout",
     "output_type": "stream",
     "text": [
      "Số đếm là: 1\n",
      "Số đếm là: 2\n",
      "Số đếm là: 3\n",
      "Số đếm là: 4\n",
      "Số đếm là: 5\n"
     ]
    }
   ],
   "source": [
    "# Break\n",
    "count = 0\n",
    "while (count < 10):\n",
    "    count=count+1\n",
    "    print(\"Số đếm là:\", count)\n",
    "    if count == 5:\n",
    "         break"
   ]
  },
  {
   "cell_type": "code",
   "execution_count": 136,
   "id": "59dfeeb7",
   "metadata": {},
   "outputs": [
    {
     "ename": "SyntaxError",
     "evalue": "invalid syntax (2000005681.py, line 5)",
     "output_type": "error",
     "traceback": [
      "\u001b[0;36m  Cell \u001b[0;32mIn [136], line 5\u001b[0;36m\u001b[0m\n\u001b[0;31m    if s == \"K\"\u001b[0m\n\u001b[0m               ^\u001b[0m\n\u001b[0;31mSyntaxError\u001b[0m\u001b[0;31m:\u001b[0m invalid syntax\n"
     ]
    }
   ],
   "source": [
    "while True:\n",
    "     a = int(input(\"Nhập vòa một số:\"))\n",
    "     print(\"Giá trị số bạn nhập là:\",a)\n",
    "     s=input(\"Bạn có muốn tiếp tục không?(C/K):\")\n",
    "     if s == \n",
    "     print(\"Bye bye!\")"
   ]
  },
  {
   "cell_type": "code",
   "execution_count": 131,
   "id": "309e45fd",
   "metadata": {},
   "outputs": [
    {
     "name": "stdout",
     "output_type": "stream",
     "text": [
      "Số đếm là: 0\n",
      "Số đếm là: 1\n",
      "Số đếm là: 2\n",
      "Số đếm là: 3\n",
      "Số đếm là: 4\n",
      "Số đếm là: 6\n",
      "Số đếm là: 7\n",
      "Số đếm là: 8\n",
      "Số đếm là: 9\n"
     ]
    }
   ],
   "source": [
    "# continue\n",
    "count = 0\n",
    "while (count < 10): \n",
    "    if count == 5: \n",
    "        count=count+1\n",
    "        continue\n",
    "    print(\"Số đếm là:\", count) \n",
    "    count=count+1"
   ]
  },
  {
   "cell_type": "code",
   "execution_count": 132,
   "id": "0408f11c",
   "metadata": {},
   "outputs": [],
   "source": [
    "lst = range(1500, 2701)"
   ]
  },
  {
   "cell_type": "markdown",
   "id": "05bf4906",
   "metadata": {},
   "source": [
    "# Functions (Hàm)"
   ]
  },
  {
   "cell_type": "code",
   "execution_count": 1,
   "id": "b3dce7bb",
   "metadata": {},
   "outputs": [],
   "source": [
    "def say_hello():\n",
    "    print(\"Hello world!\")"
   ]
  },
  {
   "cell_type": "code",
   "execution_count": 3,
   "id": "bce34ca4",
   "metadata": {},
   "outputs": [
    {
     "name": "stdout",
     "output_type": "stream",
     "text": [
      "Hello world!\n"
     ]
    }
   ],
   "source": [
    "say_hello()"
   ]
  },
  {
   "cell_type": "code",
   "execution_count": 4,
   "id": "bf45773a",
   "metadata": {},
   "outputs": [],
   "source": [
    "# Có tham số \n",
    "def say_hello(myname):\n",
    "    print(\"Hello\", myname)"
   ]
  },
  {
   "cell_type": "code",
   "execution_count": 6,
   "id": "cc6745c7",
   "metadata": {},
   "outputs": [
    {
     "name": "stdout",
     "output_type": "stream",
     "text": [
      "Hello gái\n"
     ]
    }
   ],
   "source": [
    "say_hello(\"gái\")"
   ]
  },
  {
   "cell_type": "code",
   "execution_count": 7,
   "id": "023c4799",
   "metadata": {},
   "outputs": [
    {
     "name": "stdout",
     "output_type": "stream",
     "text": [
      "Hello Bảy\n"
     ]
    }
   ],
   "source": [
    "say_hello(\"Bảy\")"
   ]
  },
  {
   "cell_type": "markdown",
   "id": "05e13137",
   "metadata": {},
   "source": [
    "Bài tập:\n",
    "Viết một hàm: Kiểm tra một số là số lẻ hoặc chẵn, in ra màn hình \"là số lẻ\" nếu số đó là số lẻ, \"là số chẵn\" nếu đó là số chẵn."
   ]
  },
  {
   "cell_type": "code",
   "execution_count": 13,
   "id": "018816db",
   "metadata": {},
   "outputs": [],
   "source": [
    "def say_num(mynum):\n",
    "    if mynum % 2==0:\n",
    "        print(\"là số chẵn\")\n",
    "    else:\n",
    "        print(\"là số lẻ\")"
   ]
  },
  {
   "cell_type": "code",
   "execution_count": 17,
   "id": "e79fa55a",
   "metadata": {},
   "outputs": [
    {
     "name": "stdout",
     "output_type": "stream",
     "text": [
      "là số chẵn\n"
     ]
    }
   ],
   "source": [
    "say_num(2)"
   ]
  },
  {
   "cell_type": "markdown",
   "id": "1180ee4b",
   "metadata": {},
   "source": [
    "Viết 1 hàm có tham số là 2 số, in ra kq là tích của 2 số đó"
   ]
  },
  {
   "cell_type": "code",
   "execution_count": 25,
   "id": "4857d158",
   "metadata": {},
   "outputs": [],
   "source": [
    "def muntiply(num1, num2):\n",
    "    print(num1 * num2)\n",
    "    "
   ]
  },
  {
   "cell_type": "code",
   "execution_count": 26,
   "id": "d5b08459",
   "metadata": {},
   "outputs": [
    {
     "name": "stdout",
     "output_type": "stream",
     "text": [
      "12\n"
     ]
    }
   ],
   "source": [
    "ham_so(3,4)"
   ]
  },
  {
   "cell_type": "markdown",
   "id": "f9c86cbc",
   "metadata": {},
   "source": [
    "# Funtions: Output (giá trị trả về của hàm)"
   ]
  },
  {
   "cell_type": "code",
   "execution_count": 28,
   "id": "ddbfaf8e",
   "metadata": {},
   "outputs": [
    {
     "name": "stdout",
     "output_type": "stream",
     "text": [
      "12\n"
     ]
    }
   ],
   "source": [
    "muntiply(2,6)"
   ]
  },
  {
   "cell_type": "code",
   "execution_count": 29,
   "id": "086ff812",
   "metadata": {},
   "outputs": [
    {
     "name": "stdout",
     "output_type": "stream",
     "text": [
      "12\n"
     ]
    }
   ],
   "source": [
    "kq=muntiply(2,6)"
   ]
  },
  {
   "cell_type": "code",
   "execution_count": 30,
   "id": "0929e026",
   "metadata": {},
   "outputs": [],
   "source": [
    "kq"
   ]
  },
  {
   "cell_type": "code",
   "execution_count": 32,
   "id": "bb5303ca",
   "metadata": {},
   "outputs": [],
   "source": [
    "def muntiply(num1, num2):\n",
    "    return num1*num2"
   ]
  },
  {
   "cell_type": "code",
   "execution_count": 33,
   "id": "5bc54b0e",
   "metadata": {},
   "outputs": [
    {
     "data": {
      "text/plain": [
       "12"
      ]
     },
     "execution_count": 33,
     "metadata": {},
     "output_type": "execute_result"
    }
   ],
   "source": [
    "muntiply(2,6)"
   ]
  },
  {
   "cell_type": "code",
   "execution_count": 36,
   "id": "28a88533",
   "metadata": {},
   "outputs": [],
   "source": [
    "kq= muntiply(2,6)"
   ]
  },
  {
   "cell_type": "code",
   "execution_count": 37,
   "id": "dd381297",
   "metadata": {},
   "outputs": [
    {
     "data": {
      "text/plain": [
       "12"
      ]
     },
     "execution_count": 37,
     "metadata": {},
     "output_type": "execute_result"
    }
   ],
   "source": [
    "kq"
   ]
  },
  {
   "cell_type": "code",
   "execution_count": 52,
   "id": "34310e60",
   "metadata": {},
   "outputs": [],
   "source": [
    "def hello_there():\n",
    "    print (\"type your name:\")\n",
    "    name=input()\n",
    "    print(\"Hi\", name, \"how are you?\")"
   ]
  },
  {
   "cell_type": "code",
   "execution_count": 54,
   "id": "32b69b91",
   "metadata": {},
   "outputs": [
    {
     "name": "stdout",
     "output_type": "stream",
     "text": [
      "type your name:\n",
      "huong\n",
      "Hi huong how are you?\n"
     ]
    }
   ],
   "source": [
    "hello_there()"
   ]
  },
  {
   "cell_type": "markdown",
   "id": "2df7f72b",
   "metadata": {},
   "source": [
    "# Modulse"
   ]
  },
  {
   "cell_type": "code",
   "execution_count": 18,
   "id": "37713309",
   "metadata": {},
   "outputs": [],
   "source": [
    "import random"
   ]
  },
  {
   "cell_type": "code",
   "execution_count": 19,
   "id": "9ca90910",
   "metadata": {},
   "outputs": [
    {
     "data": {
      "text/plain": [
       "49"
      ]
     },
     "execution_count": 19,
     "metadata": {},
     "output_type": "execute_result"
    }
   ],
   "source": [
    "random.randint(1, 100)"
   ]
  },
  {
   "cell_type": "markdown",
   "id": "fc51cda9",
   "metadata": {},
   "source": [
    "# let make a game"
   ]
  },
  {
   "cell_type": "markdown",
   "id": "c926f11d",
   "metadata": {},
   "source": [
    "### Game1: Viết hàm guess1 chứa code trong slide 78"
   ]
  },
  {
   "cell_type": "code",
   "execution_count": 14,
   "id": "4efd1c70",
   "metadata": {},
   "outputs": [
    {
     "name": "stdout",
     "output_type": "stream",
     "text": [
      "What number an I thinking of?7\n",
      "Yay! You got it.\n"
     ]
    }
   ],
   "source": [
    "def guess1(): \n",
    "    \"\"\"\n",
    "    Hàm chơi đoán số: nhập số từ bàn phím để đoán số bí mật\n",
    "    \"\"\"\n",
    "secret_number = 7\n",
    "guess=int(input(\"What number an I thinking of?\"))\n",
    "if  secret_number == guess: \n",
    "    print(\"Yay! You got it.\")\n",
    "else:\n",
    "    print(\"No. that's not it.\")"
   ]
  },
  {
   "cell_type": "markdown",
   "id": "d206819c",
   "metadata": {},
   "source": [
    "### Game2: Viết hàm guess2 chứa code trong slide 79"
   ]
  },
  {
   "cell_type": "code",
   "execution_count": 17,
   "id": "b36376c4",
   "metadata": {},
   "outputs": [
    {
     "ename": "NameError",
     "evalue": "name 'randint' is not defined",
     "output_type": "error",
     "traceback": [
      "\u001b[0;31m---------------------------------------------------------------------------\u001b[0m",
      "\u001b[0;31mNameError\u001b[0m                                 Traceback (most recent call last)",
      "Cell \u001b[0;32mIn [17], line 3\u001b[0m\n\u001b[1;32m      1\u001b[0m \u001b[38;5;28;01mdef\u001b[39;00m \u001b[38;5;21mguss2\u001b[39m():\n\u001b[1;32m      2\u001b[0m     \u001b[38;5;28;01mfrom\u001b[39;00m \u001b[38;5;21;01mrandom\u001b[39;00m \u001b[38;5;28;01mimport\u001b[39;00m randint\n\u001b[0;32m----> 3\u001b[0m sacret_number \u001b[38;5;241m=\u001b[39m \u001b[43mrandint\u001b[49m(\u001b[38;5;241m1\u001b[39m,\u001b[38;5;241m10\u001b[39m)\n\u001b[1;32m      4\u001b[0m \u001b[38;5;28;01mwhile\u001b[39;00m \u001b[38;5;28;01mTrue\u001b[39;00m:\n\u001b[1;32m      5\u001b[0m     guess \u001b[38;5;241m=\u001b[39m \u001b[38;5;28minput\u001b[39m(\u001b[38;5;124m\"\u001b[39m\u001b[38;5;124mWhat number am I thingking of?\u001b[39m\u001b[38;5;124m\"\u001b[39m)\n",
      "\u001b[0;31mNameError\u001b[0m: name 'randint' is not defined"
     ]
    }
   ],
   "source": [
    "def guss2():\n",
    "    from random import randint\n",
    "sacret_number = randint(1,10)\n",
    "while True:\n",
    "    guess = input(\"What number am I thingking of?\")\n",
    "if secert_number == guess:\n",
    "    print(\"Yay1 You got it.\")\n",
    "    break\n",
    "else:\n",
    "    print(\"No, that;s not it.\")"
   ]
  },
  {
   "cell_type": "markdown",
   "id": "040777ac",
   "metadata": {},
   "source": [
    "### Game3: Viết hàm guess3 chứa code trong slide 80"
   ]
  },
  {
   "cell_type": "code",
   "execution_count": 20,
   "id": "ef7314e4",
   "metadata": {},
   "outputs": [
    {
     "ename": "SyntaxError",
     "evalue": "invalid syntax (758186810.py, line 1)",
     "output_type": "error",
     "traceback": [
      "\u001b[0;36m  Cell \u001b[0;32mIn [20], line 1\u001b[0;36m\u001b[0m\n\u001b[0;31m    def from random import randint\u001b[0m\n\u001b[0m        ^\u001b[0m\n\u001b[0;31mSyntaxError\u001b[0m\u001b[0;31m:\u001b[0m invalid syntax\n"
     ]
    }
   ],
   "source": [
    "def from random import randint\n",
    "secret_number = randint(1, 10)\n",
    "while True:\n",
    "guess = input(\"What number am I thinking of? \")\n",
    "if secret_number == guess:\n",
    "print(\"Yay! You got it.\")\n",
    "break\n",
    "elif secret_number > guess:\n",
    "print(\"No, that's too low.\")\n",
    "else:\n",
    "print(\"No, that's too high.\")"
   ]
  },
  {
   "cell_type": "markdown",
   "id": "cc97bb2a",
   "metadata": {},
   "source": [
    "## Tạo ra một modunle là guessgame chứa 3 hàm đã viết. Sử dụng modunle để chơi game."
   ]
  },
  {
   "cell_type": "code",
   "execution_count": null,
   "id": "4a897060",
   "metadata": {},
   "outputs": [],
   "source": []
  },
  {
   "cell_type": "markdown",
   "id": "a8e0cf0c",
   "metadata": {},
   "source": [
    "# Hướng dẫn dử dụng hàm"
   ]
  },
  {
   "cell_type": "code",
   "execution_count": 8,
   "id": "d14b266d",
   "metadata": {},
   "outputs": [
    {
     "name": "stdout",
     "output_type": "stream",
     "text": [
      "Object `random.randint` not found.\n"
     ]
    }
   ],
   "source": [
    "random.randint?"
   ]
  },
  {
   "cell_type": "code",
   "execution_count": 1,
   "id": "431dc01a",
   "metadata": {},
   "outputs": [
    {
     "ename": "ModuleNotFoundError",
     "evalue": "No module named 'guessgames'",
     "output_type": "error",
     "traceback": [
      "\u001b[0;31m---------------------------------------------------------------------------\u001b[0m",
      "\u001b[0;31mModuleNotFoundError\u001b[0m                       Traceback (most recent call last)",
      "Cell \u001b[0;32mIn [1], line 1\u001b[0m\n\u001b[0;32m----> 1\u001b[0m \u001b[38;5;28;01mimport\u001b[39;00m \u001b[38;5;21;01mguessgames\u001b[39;00m\n",
      "\u001b[0;31mModuleNotFoundError\u001b[0m: No module named 'guessgames'"
     ]
    }
   ],
   "source": [
    "import guessgames"
   ]
  },
  {
   "cell_type": "markdown",
   "id": "a16b3144",
   "metadata": {},
   "source": [
    "# Auto reload module"
   ]
  },
  {
   "cell_type": "code",
   "execution_count": 12,
   "id": "cbae4239",
   "metadata": {},
   "outputs": [
    {
     "name": "stdout",
     "output_type": "stream",
     "text": [
      "The autoreload extension is already loaded. To reload it, use:\n",
      "  %reload_ext autoreload\n"
     ]
    }
   ],
   "source": [
    "%load_ext autoreload\n",
    "%autoreload 2"
   ]
  },
  {
   "cell_type": "code",
   "execution_count": 13,
   "id": "610d977b",
   "metadata": {},
   "outputs": [
    {
     "ename": "ModuleNotFoundError",
     "evalue": "No module named 'guessgame'",
     "output_type": "error",
     "traceback": [
      "\u001b[0;31m---------------------------------------------------------------------------\u001b[0m",
      "\u001b[0;31mModuleNotFoundError\u001b[0m                       Traceback (most recent call last)",
      "Cell \u001b[0;32mIn [13], line 1\u001b[0m\n\u001b[0;32m----> 1\u001b[0m \u001b[38;5;28;01mimport\u001b[39;00m \u001b[38;5;21;01mguessgame\u001b[39;00m\n",
      "\u001b[0;31mModuleNotFoundError\u001b[0m: No module named 'guessgame'"
     ]
    }
   ],
   "source": [
    "import guessgame"
   ]
  },
  {
   "cell_type": "code",
   "execution_count": null,
   "id": "72bb3fed",
   "metadata": {},
   "outputs": [],
   "source": []
  }
 ],
 "metadata": {
  "kernelspec": {
   "display_name": "Python 3 (ipykernel)",
   "language": "python",
   "name": "python3"
  },
  "language_info": {
   "codemirror_mode": {
    "name": "ipython",
    "version": 3
   },
   "file_extension": ".py",
   "mimetype": "text/x-python",
   "name": "python",
   "nbconvert_exporter": "python",
   "pygments_lexer": "ipython3",
   "version": "3.9.7"
  }
 },
 "nbformat": 4,
 "nbformat_minor": 5
}
